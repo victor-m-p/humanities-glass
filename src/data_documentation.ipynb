{
 "cells": [
  {
   "cell_type": "code",
   "execution_count": 1,
   "metadata": {},
   "outputs": [],
   "source": [
    "import pandas as pd \n",
    "from tqdm import tqdm\n",
    "from pathlib import Path\n",
    "import re\n",
    "import numpy as np\n",
    "import matplotlib.pyplot as plt\n",
    "import itertools\n",
    "from itertools import permutations"
   ]
  },
  {
   "cell_type": "code",
   "execution_count": 2,
   "metadata": {},
   "outputs": [],
   "source": [
    "def single_size(df, c1, ascending = False): \n",
    "    return df.groupby(c1).size().reset_index(name = \"count\").sort_values(\"count\", ascending = ascending)\n",
    "\n",
    "def groupby_size(df, c1, c2, ascending = False): \n",
    "    df_grouped = df.groupby([c1, c2]).size().reset_index(name = 'count').sort_values('count', ascending = ascending)\n",
    "    return df_grouped \n",
    "\n",
    "def distinct_size(df, c1, c2, ascending = False): \n",
    "    df = df[[c1, c2]].drop_duplicates()\n",
    "    d_c1 = df.groupby(c1).size().reset_index(name = 'count').sort_values(\"count\", ascending = ascending)\n",
    "    d_c2 = df.groupby(c2).size().reset_index(name = 'count').sort_values(\"count\", ascending = ascending)\n",
    "    return d_c1, d_c2 "
   ]
  },
  {
   "cell_type": "code",
   "execution_count": 3,
   "metadata": {},
   "outputs": [
    {
     "name": "stderr",
     "output_type": "stream",
     "text": [
      "/home/vpoulsen/religion-glass/relenv/lib/python3.9/site-packages/IPython/core/interactiveshell.py:3433: DtypeWarning: Columns (7) have mixed types.Specify dtype option on import or set low_memory=False.\n",
      "  exec(code_obj, self.user_global_ns, self.user_ns)\n"
     ]
    }
   ],
   "source": [
    "df = pd.read_csv(\"../data/df_raw.csv\")"
   ]
  },
  {
   "cell_type": "code",
   "execution_count": 18,
   "metadata": {},
   "outputs": [
    {
     "data": {
      "text/html": [
       "<div>\n",
       "<style scoped>\n",
       "    .dataframe tbody tr th:only-of-type {\n",
       "        vertical-align: middle;\n",
       "    }\n",
       "\n",
       "    .dataframe tbody tr th {\n",
       "        vertical-align: top;\n",
       "    }\n",
       "\n",
       "    .dataframe thead th {\n",
       "        text-align: right;\n",
       "    }\n",
       "</style>\n",
       "<table border=\"1\" class=\"dataframe\">\n",
       "  <thead>\n",
       "    <tr style=\"text-align: right;\">\n",
       "      <th></th>\n",
       "      <th>q</th>\n",
       "      <th>related_parent_q</th>\n",
       "      <th>parent_question</th>\n",
       "      <th>branching_q</th>\n",
       "    </tr>\n",
       "  </thead>\n",
       "  <tbody>\n",
       "    <tr>\n",
       "      <th>0</th>\n",
       "      <td>Are the priests paid by polity:</td>\n",
       "      <td>Does the religion have official political support</td>\n",
       "      <td>Does the religion have official political support</td>\n",
       "      <td>Status of Participants: Elite, Non-elite (comm...</td>\n",
       "    </tr>\n",
       "    <tr>\n",
       "      <th>1</th>\n",
       "      <td>Are other religious groups in cultural contact...</td>\n",
       "      <td>NaN</td>\n",
       "      <td>NaN</td>\n",
       "      <td>Status of Participants: Elite, Non-elite (comm...</td>\n",
       "    </tr>\n",
       "    <tr>\n",
       "      <th>2</th>\n",
       "      <td>Print sources for understanding this subject:</td>\n",
       "      <td>NaN</td>\n",
       "      <td>NaN</td>\n",
       "      <td>Status of Participants: Elite, Non-elite (comm...</td>\n",
       "    </tr>\n",
       "    <tr>\n",
       "      <th>3</th>\n",
       "      <td>Is the cultural contact competitive:</td>\n",
       "      <td>Are other religious groups in cultural contact...</td>\n",
       "      <td>Are other religious groups in cultural contact...</td>\n",
       "      <td>Status of Participants: Elite, Non-elite (comm...</td>\n",
       "    </tr>\n",
       "    <tr>\n",
       "      <th>4</th>\n",
       "      <td>Does the religious group have scriptures:</td>\n",
       "      <td>NaN</td>\n",
       "      <td>NaN</td>\n",
       "      <td>Status of Participants: Elite, Non-elite (comm...</td>\n",
       "    </tr>\n",
       "    <tr>\n",
       "      <th>...</th>\n",
       "      <td>...</td>\n",
       "      <td>...</td>\n",
       "      <td>...</td>\n",
       "      <td>...</td>\n",
       "    </tr>\n",
       "    <tr>\n",
       "      <th>172065</th>\n",
       "      <td>Other important virtues advocated by the relig...</td>\n",
       "      <td>Are there centrally important virtues advocate...</td>\n",
       "      <td>Are there centrally important virtues advocate...</td>\n",
       "      <td>Status of Participants: Elite, Religious Speci...</td>\n",
       "    </tr>\n",
       "    <tr>\n",
       "      <th>172066</th>\n",
       "      <td>Other important virtues advocated by the relig...</td>\n",
       "      <td>Are there centrally important virtues advocate...</td>\n",
       "      <td>Are there centrally important virtues advocate...</td>\n",
       "      <td>Status of Participants: Religious Specialists</td>\n",
       "    </tr>\n",
       "    <tr>\n",
       "      <th>172067</th>\n",
       "      <td>Other important virtues advocated by the relig...</td>\n",
       "      <td>Are there centrally important virtues advocate...</td>\n",
       "      <td>Are there centrally important virtues advocate...</td>\n",
       "      <td>Status of Participants: Elite, Non-elite (comm...</td>\n",
       "    </tr>\n",
       "    <tr>\n",
       "      <th>172068</th>\n",
       "      <td>Other important virtues advocated by the relig...</td>\n",
       "      <td>Are there centrally important virtues advocate...</td>\n",
       "      <td>Are there centrally important virtues advocate...</td>\n",
       "      <td>Status of Participants: Religious Specialists</td>\n",
       "    </tr>\n",
       "    <tr>\n",
       "      <th>172069</th>\n",
       "      <td>Other important virtues advocated by the relig...</td>\n",
       "      <td>Are there centrally important virtues advocate...</td>\n",
       "      <td>Are there centrally important virtues advocate...</td>\n",
       "      <td>Status of Participants: Elite, Religious Speci...</td>\n",
       "    </tr>\n",
       "  </tbody>\n",
       "</table>\n",
       "<p>172070 rows × 4 columns</p>\n",
       "</div>"
      ],
      "text/plain": [
       "                                                        q  \\\n",
       "0                         Are the priests paid by polity:   \n",
       "1       Are other religious groups in cultural contact...   \n",
       "2           Print sources for understanding this subject:   \n",
       "3                    Is the cultural contact competitive:   \n",
       "4               Does the religious group have scriptures:   \n",
       "...                                                   ...   \n",
       "172065  Other important virtues advocated by the relig...   \n",
       "172066  Other important virtues advocated by the relig...   \n",
       "172067  Other important virtues advocated by the relig...   \n",
       "172068  Other important virtues advocated by the relig...   \n",
       "172069  Other important virtues advocated by the relig...   \n",
       "\n",
       "                                         related_parent_q  \\\n",
       "0       Does the religion have official political support   \n",
       "1                                                     NaN   \n",
       "2                                                     NaN   \n",
       "3       Are other religious groups in cultural contact...   \n",
       "4                                                     NaN   \n",
       "...                                                   ...   \n",
       "172065  Are there centrally important virtues advocate...   \n",
       "172066  Are there centrally important virtues advocate...   \n",
       "172067  Are there centrally important virtues advocate...   \n",
       "172068  Are there centrally important virtues advocate...   \n",
       "172069  Are there centrally important virtues advocate...   \n",
       "\n",
       "                                          parent_question  \\\n",
       "0       Does the religion have official political support   \n",
       "1                                                     NaN   \n",
       "2                                                     NaN   \n",
       "3       Are other religious groups in cultural contact...   \n",
       "4                                                     NaN   \n",
       "...                                                   ...   \n",
       "172065  Are there centrally important virtues advocate...   \n",
       "172066  Are there centrally important virtues advocate...   \n",
       "172067  Are there centrally important virtues advocate...   \n",
       "172068  Are there centrally important virtues advocate...   \n",
       "172069  Are there centrally important virtues advocate...   \n",
       "\n",
       "                                              branching_q  \n",
       "0       Status of Participants: Elite, Non-elite (comm...  \n",
       "1       Status of Participants: Elite, Non-elite (comm...  \n",
       "2       Status of Participants: Elite, Non-elite (comm...  \n",
       "3       Status of Participants: Elite, Non-elite (comm...  \n",
       "4       Status of Participants: Elite, Non-elite (comm...  \n",
       "...                                                   ...  \n",
       "172065  Status of Participants: Elite, Religious Speci...  \n",
       "172066      Status of Participants: Religious Specialists  \n",
       "172067  Status of Participants: Elite, Non-elite (comm...  \n",
       "172068      Status of Participants: Religious Specialists  \n",
       "172069  Status of Participants: Elite, Religious Speci...  \n",
       "\n",
       "[172070 rows x 4 columns]"
      ]
     },
     "execution_count": 18,
     "metadata": {},
     "output_type": "execute_result"
    }
   ],
   "source": [
    "# df.dtypes\n",
    "df[[\"q\", \"related_parent_q\", \"parent_question\", \"branching_q\"]] # the super questions have NAN "
   ]
  },
  {
   "cell_type": "markdown",
   "metadata": {},
   "source": [
    "# Entry name and Entry id"
   ]
  },
  {
   "cell_type": "code",
   "execution_count": 4,
   "metadata": {},
   "outputs": [
    {
     "data": {
      "text/html": [
       "<div>\n",
       "<style scoped>\n",
       "    .dataframe tbody tr th:only-of-type {\n",
       "        vertical-align: middle;\n",
       "    }\n",
       "\n",
       "    .dataframe tbody tr th {\n",
       "        vertical-align: top;\n",
       "    }\n",
       "\n",
       "    .dataframe thead th {\n",
       "        text-align: right;\n",
       "    }\n",
       "</style>\n",
       "<table border=\"1\" class=\"dataframe\">\n",
       "  <thead>\n",
       "    <tr style=\"text-align: right;\">\n",
       "      <th></th>\n",
       "      <th>entry_name</th>\n",
       "      <th>count</th>\n",
       "    </tr>\n",
       "  </thead>\n",
       "  <tbody>\n",
       "    <tr>\n",
       "      <th>769</th>\n",
       "      <td>West Bengal, India</td>\n",
       "      <td>6</td>\n",
       "    </tr>\n",
       "    <tr>\n",
       "      <th>584</th>\n",
       "      <td>Syria</td>\n",
       "      <td>5</td>\n",
       "    </tr>\n",
       "    <tr>\n",
       "      <th>285</th>\n",
       "      <td>Italy: The Catholic Church</td>\n",
       "      <td>4</td>\n",
       "    </tr>\n",
       "    <tr>\n",
       "      <th>481</th>\n",
       "      <td>Punjab/Delhi, India</td>\n",
       "      <td>4</td>\n",
       "    </tr>\n",
       "    <tr>\n",
       "      <th>119</th>\n",
       "      <td>Central Macedonia, Greece: Eastern Orthodoxy</td>\n",
       "      <td>3</td>\n",
       "    </tr>\n",
       "  </tbody>\n",
       "</table>\n",
       "</div>"
      ],
      "text/plain": [
       "                                       entry_name  count\n",
       "769                            West Bengal, India      6\n",
       "584                                         Syria      5\n",
       "285                    Italy: The Catholic Church      4\n",
       "481                           Punjab/Delhi, India      4\n",
       "119  Central Macedonia, Greece: Eastern Orthodoxy      3"
      ]
     },
     "execution_count": 4,
     "metadata": {},
     "output_type": "execute_result"
    }
   ],
   "source": [
    "e_id, e_name = distinct_size(df, 'entry_id', 'entry_name')\n",
    "e_id.head(5) # entry_id: is unique \n",
    "e_name.head(5) # entry_name: not unique"
   ]
  },
  {
   "cell_type": "markdown",
   "metadata": {},
   "source": [
    "mapping between entry_id and entry_name is not unique: \n",
    "the pattern is that the same entry name can be entered multiple times. Each entry then has a unique entry_id. These are not actually independent, so we need to decide what to do here. Typically same expert but different periods, see e.g. (https://religiondatabase.org/browse/search?q=West%20Bengal,%20India)"
   ]
  },
  {
   "cell_type": "markdown",
   "metadata": {},
   "source": [
    "# Question id and Question"
   ]
  },
  {
   "cell_type": "code",
   "execution_count": 5,
   "metadata": {},
   "outputs": [
    {
     "data": {
      "text/html": [
       "<div>\n",
       "<style scoped>\n",
       "    .dataframe tbody tr th:only-of-type {\n",
       "        vertical-align: middle;\n",
       "    }\n",
       "\n",
       "    .dataframe tbody tr th {\n",
       "        vertical-align: top;\n",
       "    }\n",
       "\n",
       "    .dataframe thead th {\n",
       "        text-align: right;\n",
       "    }\n",
       "</style>\n",
       "<table border=\"1\" class=\"dataframe\">\n",
       "  <thead>\n",
       "    <tr style=\"text-align: right;\">\n",
       "      <th></th>\n",
       "      <th>q_id</th>\n",
       "      <th>count</th>\n",
       "    </tr>\n",
       "  </thead>\n",
       "  <tbody>\n",
       "    <tr>\n",
       "      <th>713</th>\n",
       "      <td>4786</td>\n",
       "      <td>2</td>\n",
       "    </tr>\n",
       "    <tr>\n",
       "      <th>0</th>\n",
       "      <td>2231</td>\n",
       "      <td>1</td>\n",
       "    </tr>\n",
       "    <tr>\n",
       "      <th>2232</th>\n",
       "      <td>6845</td>\n",
       "      <td>1</td>\n",
       "    </tr>\n",
       "  </tbody>\n",
       "</table>\n",
       "</div>"
      ],
      "text/plain": [
       "      q_id  count\n",
       "713   4786      2\n",
       "0     2231      1\n",
       "2232  6845      1"
      ]
     },
     "execution_count": 5,
     "metadata": {},
     "output_type": "execute_result"
    }
   ],
   "source": [
    "q_id, q = distinct_size(df, \"q_id\", \"q\")\n",
    "q_id.head(3) # almost unique, but not quite"
   ]
  },
  {
   "cell_type": "code",
   "execution_count": 6,
   "metadata": {},
   "outputs": [
    {
     "data": {
      "text/html": [
       "<div>\n",
       "<style scoped>\n",
       "    .dataframe tbody tr th:only-of-type {\n",
       "        vertical-align: middle;\n",
       "    }\n",
       "\n",
       "    .dataframe tbody tr th {\n",
       "        vertical-align: top;\n",
       "    }\n",
       "\n",
       "    .dataframe thead th {\n",
       "        text-align: right;\n",
       "    }\n",
       "</style>\n",
       "<table border=\"1\" class=\"dataframe\">\n",
       "  <thead>\n",
       "    <tr style=\"text-align: right;\">\n",
       "      <th></th>\n",
       "      <th>q_id</th>\n",
       "      <th>q</th>\n",
       "      <th>entry_id</th>\n",
       "      <th>entry_name</th>\n",
       "    </tr>\n",
       "  </thead>\n",
       "  <tbody>\n",
       "    <tr>\n",
       "      <th>782</th>\n",
       "      <td>4786</td>\n",
       "      <td>Afterlife located in \"\"other\"\" space:</td>\n",
       "      <td>1386</td>\n",
       "      <td>Liumen (Liu School)</td>\n",
       "    </tr>\n",
       "    <tr>\n",
       "      <th>827</th>\n",
       "      <td>4786</td>\n",
       "      <td>Afterlife located in \"\"other\"\" space:</td>\n",
       "      <td>1521</td>\n",
       "      <td>Order of the Hermits of St Augustine (Augustin...</td>\n",
       "    </tr>\n",
       "    <tr>\n",
       "      <th>125450</th>\n",
       "      <td>4786</td>\n",
       "      <td>Afterlife located in \"\"\"\"\"\"\"\"other\"\"\"\"\"\"\"\" space:</td>\n",
       "      <td>688</td>\n",
       "      <td>Darul Uloom Deoband</td>\n",
       "    </tr>\n",
       "    <tr>\n",
       "      <th>125497</th>\n",
       "      <td>4786</td>\n",
       "      <td>Afterlife located in \"\"\"\"\"\"\"\"other\"\"\"\"\"\"\"\" space:</td>\n",
       "      <td>690</td>\n",
       "      <td>Ahl-e-Sunnat wa Jamaat</td>\n",
       "    </tr>\n",
       "  </tbody>\n",
       "</table>\n",
       "</div>"
      ],
      "text/plain": [
       "        q_id                                                  q  entry_id  \\\n",
       "782     4786              Afterlife located in \"\"other\"\" space:      1386   \n",
       "827     4786              Afterlife located in \"\"other\"\" space:      1521   \n",
       "125450  4786  Afterlife located in \"\"\"\"\"\"\"\"other\"\"\"\"\"\"\"\" space:       688   \n",
       "125497  4786  Afterlife located in \"\"\"\"\"\"\"\"other\"\"\"\"\"\"\"\" space:       690   \n",
       "\n",
       "                                               entry_name  \n",
       "782                                   Liumen (Liu School)  \n",
       "827     Order of the Hermits of St Augustine (Augustin...  \n",
       "125450                                Darul Uloom Deoband  \n",
       "125497                             Ahl-e-Sunnat wa Jamaat  "
      ]
     },
     "execution_count": 6,
     "metadata": {},
     "output_type": "execute_result"
    }
   ],
   "source": [
    "df[df[\"q_id\"] == 4786][[\"q_id\", \"q\", \"entry_id\", \"entry_name\"]].head(4)"
   ]
  },
  {
   "cell_type": "markdown",
   "metadata": {},
   "source": [
    "The only question id which has more than one associated question is 4786 which is related to the \"Afterlife located in other space\", where the only difference is formatting. I take this to mean that question id is actually distinct for each question. "
   ]
  },
  {
   "cell_type": "code",
   "execution_count": 7,
   "metadata": {},
   "outputs": [
    {
     "data": {
      "text/html": [
       "<div>\n",
       "<style scoped>\n",
       "    .dataframe tbody tr th:only-of-type {\n",
       "        vertical-align: middle;\n",
       "    }\n",
       "\n",
       "    .dataframe tbody tr th {\n",
       "        vertical-align: top;\n",
       "    }\n",
       "\n",
       "    .dataframe thead th {\n",
       "        text-align: right;\n",
       "    }\n",
       "</style>\n",
       "<table border=\"1\" class=\"dataframe\">\n",
       "  <thead>\n",
       "    <tr style=\"text-align: right;\">\n",
       "      <th></th>\n",
       "      <th>q</th>\n",
       "      <th>count</th>\n",
       "    </tr>\n",
       "  </thead>\n",
       "  <tbody>\n",
       "    <tr>\n",
       "      <th>1198</th>\n",
       "      <td>Other</td>\n",
       "      <td>41</td>\n",
       "    </tr>\n",
       "    <tr>\n",
       "      <th>1199</th>\n",
       "      <td>Other [Specify]</td>\n",
       "      <td>19</td>\n",
       "    </tr>\n",
       "    <tr>\n",
       "      <th>1424</th>\n",
       "      <td>Specify</td>\n",
       "      <td>18</td>\n",
       "    </tr>\n",
       "  </tbody>\n",
       "</table>\n",
       "</div>"
      ],
      "text/plain": [
       "                    q  count\n",
       "1198            Other     41\n",
       "1199  Other [Specify]     19\n",
       "1424          Specify     18"
      ]
     },
     "execution_count": 7,
     "metadata": {},
     "output_type": "execute_result"
    }
   ],
   "source": [
    "q.head(3) # not unique"
   ]
  },
  {
   "cell_type": "markdown",
   "metadata": {},
   "source": [
    "This above means that the same question (e.g. \"Other\") appears with multiple question ids (count = 41). I take this to mean that the question \"Other\" appears multiple times within the questionaire, and thus it makes sense to treat these as different questions. "
   ]
  },
  {
   "cell_type": "code",
   "execution_count": 14,
   "metadata": {},
   "outputs": [
    {
     "data": {
      "text/html": [
       "<div>\n",
       "<style scoped>\n",
       "    .dataframe tbody tr th:only-of-type {\n",
       "        vertical-align: middle;\n",
       "    }\n",
       "\n",
       "    .dataframe tbody tr th {\n",
       "        vertical-align: top;\n",
       "    }\n",
       "\n",
       "    .dataframe thead th {\n",
       "        text-align: right;\n",
       "    }\n",
       "</style>\n",
       "<table border=\"1\" class=\"dataframe\">\n",
       "  <thead>\n",
       "    <tr style=\"text-align: right;\">\n",
       "      <th></th>\n",
       "      <th>q</th>\n",
       "      <th>entry_id</th>\n",
       "      <th>count</th>\n",
       "    </tr>\n",
       "  </thead>\n",
       "  <tbody>\n",
       "    <tr>\n",
       "      <th>28</th>\n",
       "      <td>Other</td>\n",
       "      <td>1068</td>\n",
       "      <td>14</td>\n",
       "    </tr>\n",
       "    <tr>\n",
       "      <th>5</th>\n",
       "      <td>Other</td>\n",
       "      <td>683</td>\n",
       "      <td>14</td>\n",
       "    </tr>\n",
       "    <tr>\n",
       "      <th>148</th>\n",
       "      <td>Other</td>\n",
       "      <td>1519</td>\n",
       "      <td>12</td>\n",
       "    </tr>\n",
       "  </tbody>\n",
       "</table>\n",
       "</div>"
      ],
      "text/plain": [
       "         q  entry_id  count\n",
       "28   Other      1068     14\n",
       "5    Other       683     14\n",
       "148  Other      1519     12"
      ]
     },
     "execution_count": 14,
     "metadata": {},
     "output_type": "execute_result"
    }
   ],
   "source": [
    "df[df[\"q\"] == \"Other\"].groupby([\"q\", \"entry_id\"]).size().reset_index(name = \"count\").sort_values(\"count\", ascending=False).head(3)"
   ]
  },
  {
   "cell_type": "markdown",
   "metadata": {},
   "source": [
    "The above validates this idea, i.e. in entry 1068 the question \"Other\" appears 14 times. "
   ]
  },
  {
   "cell_type": "code",
   "execution_count": 15,
   "metadata": {},
   "outputs": [
    {
     "data": {
      "text/html": [
       "<div>\n",
       "<style scoped>\n",
       "    .dataframe tbody tr th:only-of-type {\n",
       "        vertical-align: middle;\n",
       "    }\n",
       "\n",
       "    .dataframe tbody tr th {\n",
       "        vertical-align: top;\n",
       "    }\n",
       "\n",
       "    .dataframe thead th {\n",
       "        text-align: right;\n",
       "    }\n",
       "</style>\n",
       "<table border=\"1\" class=\"dataframe\">\n",
       "  <thead>\n",
       "    <tr style=\"text-align: right;\">\n",
       "      <th></th>\n",
       "      <th>q</th>\n",
       "      <th>q_id</th>\n",
       "      <th>entry_id</th>\n",
       "      <th>count</th>\n",
       "    </tr>\n",
       "  </thead>\n",
       "  <tbody>\n",
       "    <tr>\n",
       "      <th>340</th>\n",
       "      <td>Other</td>\n",
       "      <td>6662</td>\n",
       "      <td>1519</td>\n",
       "      <td>3</td>\n",
       "    </tr>\n",
       "    <tr>\n",
       "      <th>0</th>\n",
       "      <td>Other</td>\n",
       "      <td>5346</td>\n",
       "      <td>642</td>\n",
       "      <td>2</td>\n",
       "    </tr>\n",
       "    <tr>\n",
       "      <th>385</th>\n",
       "      <td>Other</td>\n",
       "      <td>6710</td>\n",
       "      <td>1519</td>\n",
       "      <td>2</td>\n",
       "    </tr>\n",
       "  </tbody>\n",
       "</table>\n",
       "</div>"
      ],
      "text/plain": [
       "         q  q_id  entry_id  count\n",
       "340  Other  6662      1519      3\n",
       "0    Other  5346       642      2\n",
       "385  Other  6710      1519      2"
      ]
     },
     "execution_count": 15,
     "metadata": {},
     "output_type": "execute_result"
    }
   ],
   "source": [
    "df[df[\"q\"] == \"Other\"].groupby([\"q\", \"q_id\", \"entry_id\"]).size().reset_index(name = \"count\").sort_values(\"count\", ascending=False).head(3)\n"
   ]
  },
  {
   "cell_type": "markdown",
   "metadata": {},
   "source": [
    "Interestingly, even if we group by q_id we still get duplicates. In entry 1519 we observe the question \"Other\" with id 6662 appear 3 times. At least in this case (https://religiondatabase.org/browse/1519/#/) this makes sense because the question here (Other) appears three times in the same place (i.e. has the same parent question) so it should have the same id. "
   ]
  },
  {
   "cell_type": "code",
   "execution_count": 28,
   "metadata": {},
   "outputs": [
    {
     "data": {
      "text/html": [
       "<div>\n",
       "<style scoped>\n",
       "    .dataframe tbody tr th:only-of-type {\n",
       "        vertical-align: middle;\n",
       "    }\n",
       "\n",
       "    .dataframe tbody tr th {\n",
       "        vertical-align: top;\n",
       "    }\n",
       "\n",
       "    .dataframe thead th {\n",
       "        text-align: right;\n",
       "    }\n",
       "</style>\n",
       "<table border=\"1\" class=\"dataframe\">\n",
       "  <thead>\n",
       "    <tr style=\"text-align: right;\">\n",
       "      <th></th>\n",
       "      <th>entry_name</th>\n",
       "      <th>expert</th>\n",
       "      <th>q</th>\n",
       "      <th>q_id</th>\n",
       "      <th>related_parent_q</th>\n",
       "      <th>answers</th>\n",
       "    </tr>\n",
       "  </thead>\n",
       "  <tbody>\n",
       "    <tr>\n",
       "      <th>20061</th>\n",
       "      <td>The Mausoleum of Sunan Muria, Colo (Central Java)</td>\n",
       "      <td>Vivek Neelakantan</td>\n",
       "      <td>Other</td>\n",
       "      <td>6662</td>\n",
       "      <td>Are pilgrimages to this place associated with ...</td>\n",
       "      <td>Other [specify]: Pilgrims undertake ziarah (to...</td>\n",
       "    </tr>\n",
       "    <tr>\n",
       "      <th>20062</th>\n",
       "      <td>The Mausoleum of Sunan Muria, Colo (Central Java)</td>\n",
       "      <td>Vivek Neelakantan</td>\n",
       "      <td>Other</td>\n",
       "      <td>6662</td>\n",
       "      <td>Are pilgrimages to this place associated with ...</td>\n",
       "      <td>Other [specify]: Many married couples undertak...</td>\n",
       "    </tr>\n",
       "    <tr>\n",
       "      <th>20063</th>\n",
       "      <td>The Mausoleum of Sunan Muria, Colo (Central Java)</td>\n",
       "      <td>Vivek Neelakantan</td>\n",
       "      <td>Other</td>\n",
       "      <td>6662</td>\n",
       "      <td>Are pilgrimages to this place associated with ...</td>\n",
       "      <td>Other [specify]: Specific shrines near Sunan M...</td>\n",
       "    </tr>\n",
       "    <tr>\n",
       "      <th>20065</th>\n",
       "      <td>The Mausoleum of Sunan Muria, Colo (Central Java)</td>\n",
       "      <td>Vivek Neelakantan</td>\n",
       "      <td>Other</td>\n",
       "      <td>6671</td>\n",
       "      <td>Is feasting sponsored by the same entity that ...</td>\n",
       "      <td>Other [specify]: Yayasan Sunan Muria, the foun...</td>\n",
       "    </tr>\n",
       "  </tbody>\n",
       "</table>\n",
       "</div>"
      ],
      "text/plain": [
       "                                              entry_name             expert  \\\n",
       "20061  The Mausoleum of Sunan Muria, Colo (Central Java)  Vivek Neelakantan   \n",
       "20062  The Mausoleum of Sunan Muria, Colo (Central Java)  Vivek Neelakantan   \n",
       "20063  The Mausoleum of Sunan Muria, Colo (Central Java)  Vivek Neelakantan   \n",
       "20065  The Mausoleum of Sunan Muria, Colo (Central Java)  Vivek Neelakantan   \n",
       "\n",
       "           q  q_id                                   related_parent_q  \\\n",
       "20061  Other  6662  Are pilgrimages to this place associated with ...   \n",
       "20062  Other  6662  Are pilgrimages to this place associated with ...   \n",
       "20063  Other  6662  Are pilgrimages to this place associated with ...   \n",
       "20065  Other  6671  Is feasting sponsored by the same entity that ...   \n",
       "\n",
       "                                                 answers  \n",
       "20061  Other [specify]: Pilgrims undertake ziarah (to...  \n",
       "20062  Other [specify]: Many married couples undertak...  \n",
       "20063  Other [specify]: Specific shrines near Sunan M...  \n",
       "20065  Other [specify]: Yayasan Sunan Muria, the foun...  "
      ]
     },
     "execution_count": 28,
     "metadata": {},
     "output_type": "execute_result"
    }
   ],
   "source": [
    "df[(df[\"entry_id\"] == 1519) & (df[\"q\"] == \"Other\")][[\"entry_name\", \"expert\", \"q\", \"q_id\", \"related_parent_q\", \"answers\"]].head(4)"
   ]
  },
  {
   "cell_type": "markdown",
   "metadata": {},
   "source": [
    "# Quality of Questions"
   ]
  },
  {
   "cell_type": "markdown",
   "metadata": {},
   "source": [
    "## Some Questions have weird formatting (e.g. asterisks)"
   ]
  },
  {
   "cell_type": "code",
   "execution_count": 33,
   "metadata": {},
   "outputs": [
    {
     "data": {
      "text/html": [
       "<div>\n",
       "<style scoped>\n",
       "    .dataframe tbody tr th:only-of-type {\n",
       "        vertical-align: middle;\n",
       "    }\n",
       "\n",
       "    .dataframe tbody tr th {\n",
       "        vertical-align: top;\n",
       "    }\n",
       "\n",
       "    .dataframe thead th {\n",
       "        text-align: right;\n",
       "    }\n",
       "</style>\n",
       "<table border=\"1\" class=\"dataframe\">\n",
       "  <thead>\n",
       "    <tr style=\"text-align: right;\">\n",
       "      <th></th>\n",
       "      <th>q</th>\n",
       "      <th>q_id</th>\n",
       "      <th>entry_id</th>\n",
       "      <th>entry_name</th>\n",
       "      <th>expert</th>\n",
       "    </tr>\n",
       "  </thead>\n",
       "  <tbody>\n",
       "    <tr>\n",
       "      <th>0</th>\n",
       "      <td>*Are there methods of permanently tabling or r...</td>\n",
       "      <td>6860</td>\n",
       "      <td>1025</td>\n",
       "      <td>Dalikal Ppo Klaong Garai</td>\n",
       "      <td>William Noseworthy</td>\n",
       "    </tr>\n",
       "    <tr>\n",
       "      <th>1</th>\n",
       "      <td>*Is education gendered with respect to this te...</td>\n",
       "      <td>7560</td>\n",
       "      <td>1025</td>\n",
       "      <td>Dalikal Ppo Klaong Garai</td>\n",
       "      <td>William Noseworthy</td>\n",
       "    </tr>\n",
       "    <tr>\n",
       "      <th>2</th>\n",
       "      <td>*Does the text specify teaching relationships ...</td>\n",
       "      <td>7561</td>\n",
       "      <td>1025</td>\n",
       "      <td>Dalikal Ppo Klaong Garai</td>\n",
       "      <td>William Noseworthy</td>\n",
       "    </tr>\n",
       "  </tbody>\n",
       "</table>\n",
       "</div>"
      ],
      "text/plain": [
       "                                                   q  q_id  entry_id  \\\n",
       "0  *Are there methods of permanently tabling or r...  6860      1025   \n",
       "1  *Is education gendered with respect to this te...  7560      1025   \n",
       "2  *Does the text specify teaching relationships ...  7561      1025   \n",
       "\n",
       "                 entry_name              expert  \n",
       "0  Dalikal Ppo Klaong Garai  William Noseworthy  \n",
       "1  Dalikal Ppo Klaong Garai  William Noseworthy  \n",
       "2  Dalikal Ppo Klaong Garai  William Noseworthy  "
      ]
     },
     "execution_count": 33,
     "metadata": {},
     "output_type": "execute_result"
    }
   ],
   "source": [
    "q_quality = single_size(df, \"q\")\n",
    "q_quality = q_quality.assign(asterisk = lambda x: x[\"q\"].str.contains(\"\\*\"))\n",
    "q_asterisk = q_quality[q_quality[\"asterisk\"] == True]\n",
    "q_asterisk = df.merge(q_asterisk, on = \"q\", how = \"inner\")[[\"q\", \"q_id\", \"entry_id\", \"entry_name\", \"expert\"]]\n",
    "q_asterisk.head(3) # entry_id 1025"
   ]
  },
  {
   "cell_type": "code",
   "execution_count": 34,
   "metadata": {},
   "outputs": [
    {
     "data": {
      "text/html": [
       "<div>\n",
       "<style scoped>\n",
       "    .dataframe tbody tr th:only-of-type {\n",
       "        vertical-align: middle;\n",
       "    }\n",
       "\n",
       "    .dataframe tbody tr th {\n",
       "        vertical-align: top;\n",
       "    }\n",
       "\n",
       "    .dataframe thead th {\n",
       "        text-align: right;\n",
       "    }\n",
       "</style>\n",
       "<table border=\"1\" class=\"dataframe\">\n",
       "  <thead>\n",
       "    <tr style=\"text-align: right;\">\n",
       "      <th></th>\n",
       "      <th>q</th>\n",
       "      <th>q_id</th>\n",
       "      <th>entry_id</th>\n",
       "      <th>entry_name</th>\n",
       "    </tr>\n",
       "  </thead>\n",
       "  <tbody>\n",
       "    <tr>\n",
       "      <th>0</th>\n",
       "      <td>Are there methods of permanently tabling or re...</td>\n",
       "      <td>7700</td>\n",
       "      <td>1042</td>\n",
       "      <td>Zichiji 資持記</td>\n",
       "    </tr>\n",
       "    <tr>\n",
       "      <th>1</th>\n",
       "      <td>Are there methods of permanently tabling or re...</td>\n",
       "      <td>7700</td>\n",
       "      <td>1054</td>\n",
       "      <td>Wenzi 文子</td>\n",
       "    </tr>\n",
       "    <tr>\n",
       "      <th>2</th>\n",
       "      <td>Are there methods of permanently tabling or re...</td>\n",
       "      <td>7700</td>\n",
       "      <td>1058</td>\n",
       "      <td>Syŏnggyŏng chikhae kwang-ik</td>\n",
       "    </tr>\n",
       "  </tbody>\n",
       "</table>\n",
       "</div>"
      ],
      "text/plain": [
       "                                                   q  q_id  entry_id  \\\n",
       "0  Are there methods of permanently tabling or re...  7700      1042   \n",
       "1  Are there methods of permanently tabling or re...  7700      1054   \n",
       "2  Are there methods of permanently tabling or re...  7700      1058   \n",
       "\n",
       "                    entry_name  \n",
       "0                  Zichiji 資持記  \n",
       "1                     Wenzi 文子  \n",
       "2  Syŏnggyŏng chikhae kwang-ik  "
      ]
     },
     "execution_count": 34,
     "metadata": {},
     "output_type": "execute_result"
    }
   ],
   "source": [
    "q_asterisk_c = pd.DataFrame([re.sub(\"\\*\", \"\", x) for x in q_asterisk[\"q\"]], columns = [\"q\"])\n",
    "df_asterisk = df.merge(q_asterisk_c, on = \"q\", how = \"inner\")[[\"q\", \"q_id\", \"entry_id\", \"entry_name\"]]\n",
    "df_asterisk.head(3)"
   ]
  },
  {
   "cell_type": "markdown",
   "metadata": {},
   "source": [
    "As we can see above this is an error, i.e. the same question appears without asterisks (\"Are there methods of permanently...\") and with asterisks in one case (\"*Are there metohds of permanently...\"). Unfortunately, it does not look like they share question id (q_id) as one would have hoped. Below we can see that a total of 14 civilizations have answered the non-misformatted question (q_id: 7700) and only one civilization has answered the misformatted question (q_id 6860). This appears like a genuine error in the data base. "
   ]
  },
  {
   "cell_type": "code",
   "execution_count": 41,
   "metadata": {},
   "outputs": [
    {
     "data": {
      "text/html": [
       "<div>\n",
       "<style scoped>\n",
       "    .dataframe tbody tr th:only-of-type {\n",
       "        vertical-align: middle;\n",
       "    }\n",
       "\n",
       "    .dataframe tbody tr th {\n",
       "        vertical-align: top;\n",
       "    }\n",
       "\n",
       "    .dataframe thead th {\n",
       "        text-align: right;\n",
       "    }\n",
       "</style>\n",
       "<table border=\"1\" class=\"dataframe\">\n",
       "  <thead>\n",
       "    <tr style=\"text-align: right;\">\n",
       "      <th></th>\n",
       "      <th>q_id</th>\n",
       "      <th>q</th>\n",
       "      <th>count</th>\n",
       "    </tr>\n",
       "  </thead>\n",
       "  <tbody>\n",
       "    <tr>\n",
       "      <th>0</th>\n",
       "      <td>6860</td>\n",
       "      <td>*Are there methods of permanently tabling or r...</td>\n",
       "      <td>1</td>\n",
       "    </tr>\n",
       "    <tr>\n",
       "      <th>1</th>\n",
       "      <td>7700</td>\n",
       "      <td>Are there methods of permanently tabling or re...</td>\n",
       "      <td>14</td>\n",
       "    </tr>\n",
       "  </tbody>\n",
       "</table>\n",
       "</div>"
      ],
      "text/plain": [
       "   q_id                                                  q  count\n",
       "0  6860  *Are there methods of permanently tabling or r...      1\n",
       "1  7700  Are there methods of permanently tabling or re...     14"
      ]
     },
     "execution_count": 41,
     "metadata": {},
     "output_type": "execute_result"
    }
   ],
   "source": [
    "df[(df[\"q_id\"] == 6860) | (df[\"q_id\"] == 7700)].groupby(['q_id', \"q\"]).size().reset_index(name = \"count\")"
   ]
  },
  {
   "cell_type": "markdown",
   "metadata": {},
   "source": [
    "## Some questions are misspelled"
   ]
  },
  {
   "cell_type": "code",
   "execution_count": 52,
   "metadata": {},
   "outputs": [
    {
     "data": {
      "text/html": [
       "<div>\n",
       "<style scoped>\n",
       "    .dataframe tbody tr th:only-of-type {\n",
       "        vertical-align: middle;\n",
       "    }\n",
       "\n",
       "    .dataframe tbody tr th {\n",
       "        vertical-align: top;\n",
       "    }\n",
       "\n",
       "    .dataframe thead th {\n",
       "        text-align: right;\n",
       "    }\n",
       "</style>\n",
       "<table border=\"1\" class=\"dataframe\">\n",
       "  <thead>\n",
       "    <tr style=\"text-align: right;\">\n",
       "      <th></th>\n",
       "      <th>q</th>\n",
       "      <th>q_id</th>\n",
       "      <th>entry_id</th>\n",
       "      <th>entry_name</th>\n",
       "      <th>expert</th>\n",
       "    </tr>\n",
       "  </thead>\n",
       "  <tbody>\n",
       "    <tr>\n",
       "      <th>1494</th>\n",
       "      <td>Is this palce a tomb/burial:</td>\n",
       "      <td>5408</td>\n",
       "      <td>642</td>\n",
       "      <td>The Arch of Titus</td>\n",
       "      <td>Gretel Rodríguez</td>\n",
       "    </tr>\n",
       "    <tr>\n",
       "      <th>1627</th>\n",
       "      <td>Is this palce a tomb/burial:</td>\n",
       "      <td>5408</td>\n",
       "      <td>653</td>\n",
       "      <td>The Arch of Constantine</td>\n",
       "      <td>Gretel Rodríguez</td>\n",
       "    </tr>\n",
       "  </tbody>\n",
       "</table>\n",
       "</div>"
      ],
      "text/plain": [
       "                                 q  q_id  entry_id               entry_name  \\\n",
       "1494  Is this palce a tomb/burial:  5408       642        The Arch of Titus   \n",
       "1627  Is this palce a tomb/burial:  5408       653  The Arch of Constantine   \n",
       "\n",
       "                expert  \n",
       "1494  Gretel Rodríguez  \n",
       "1627  Gretel Rodríguez  "
      ]
     },
     "execution_count": 52,
     "metadata": {},
     "output_type": "execute_result"
    }
   ],
   "source": [
    "q_spelling = df[df[\"q\"] == \"Is this palce a tomb/burial:\"][[\"q\", \"q_id\", \"entry_id\", \"entry_name\", \"expert\"]]\n",
    "q_spelling.head(5)"
   ]
  },
  {
   "cell_type": "code",
   "execution_count": 58,
   "metadata": {},
   "outputs": [
    {
     "data": {
      "text/html": [
       "<div>\n",
       "<style scoped>\n",
       "    .dataframe tbody tr th:only-of-type {\n",
       "        vertical-align: middle;\n",
       "    }\n",
       "\n",
       "    .dataframe tbody tr th {\n",
       "        vertical-align: top;\n",
       "    }\n",
       "\n",
       "    .dataframe thead th {\n",
       "        text-align: right;\n",
       "    }\n",
       "</style>\n",
       "<table border=\"1\" class=\"dataframe\">\n",
       "  <thead>\n",
       "    <tr style=\"text-align: right;\">\n",
       "      <th></th>\n",
       "      <th>q</th>\n",
       "      <th>q_id</th>\n",
       "      <th>entry_id</th>\n",
       "      <th>entry_name</th>\n",
       "    </tr>\n",
       "  </thead>\n",
       "  <tbody>\n",
       "    <tr>\n",
       "      <th>1230</th>\n",
       "      <td>Is this place a tomb/burial:</td>\n",
       "      <td>5832</td>\n",
       "      <td>687</td>\n",
       "      <td>Temple of Minerva, Forum Transitorium</td>\n",
       "    </tr>\n",
       "    <tr>\n",
       "      <th>1256</th>\n",
       "      <td>Is this place a tomb/burial:</td>\n",
       "      <td>6509</td>\n",
       "      <td>772</td>\n",
       "      <td>The Apollonion at Syracuse</td>\n",
       "    </tr>\n",
       "    <tr>\n",
       "      <th>1274</th>\n",
       "      <td>Is this place a tomb/burial:</td>\n",
       "      <td>6509</td>\n",
       "      <td>774</td>\n",
       "      <td>Altar of Hieron II</td>\n",
       "    </tr>\n",
       "  </tbody>\n",
       "</table>\n",
       "</div>"
      ],
      "text/plain": [
       "                                 q  q_id  entry_id  \\\n",
       "1230  Is this place a tomb/burial:  5832       687   \n",
       "1256  Is this place a tomb/burial:  6509       772   \n",
       "1274  Is this place a tomb/burial:  6509       774   \n",
       "\n",
       "                                 entry_name  \n",
       "1230  Temple of Minerva, Forum Transitorium  \n",
       "1256             The Apollonion at Syracuse  \n",
       "1274                     Altar of Hieron II  "
      ]
     },
     "execution_count": 58,
     "metadata": {},
     "output_type": "execute_result"
    }
   ],
   "source": [
    "df_spelling = df[df[\"q\"] == \"Is this place a tomb/burial:\"][[\"q\", \"q_id\", \"entry_id\", \"entry_name\"]]\n",
    "df_spelling.head(3)"
   ]
  },
  {
   "cell_type": "markdown",
   "metadata": {},
   "source": [
    "As we can see above the non-misspelled \"Is this place a tomb/burial:\" appears in different places, but none of these share question id with the misspelled text (\"Is the palce a tomb/burial:\"). As we can see below, the question id that matches the misspelled version (5408) only appears in those two records. "
   ]
  },
  {
   "cell_type": "code",
   "execution_count": 55,
   "metadata": {},
   "outputs": [
    {
     "data": {
      "text/plain": [
       "2"
      ]
     },
     "execution_count": 55,
     "metadata": {},
     "output_type": "execute_result"
    }
   ],
   "source": [
    "len(df[df[\"q_id\"] == 5408]) # two rows (only the two records from above)"
   ]
  },
  {
   "cell_type": "markdown",
   "metadata": {},
   "source": [
    "This is really bad news because it appears like both misformatting and misspellings create new question ids. This results in more NA for the actual (i.e. non-misspelled and non-misformatted) questions. "
   ]
  },
  {
   "cell_type": "markdown",
   "metadata": {},
   "source": [
    "# Check whether these mistakes are online"
   ]
  },
  {
   "cell_type": "markdown",
   "metadata": {},
   "source": [
    "## 1. spelling mistakes (just checking one of them)"
   ]
  },
  {
   "cell_type": "code",
   "execution_count": 62,
   "metadata": {},
   "outputs": [
    {
     "data": {
      "text/html": [
       "<div>\n",
       "<style scoped>\n",
       "    .dataframe tbody tr th:only-of-type {\n",
       "        vertical-align: middle;\n",
       "    }\n",
       "\n",
       "    .dataframe tbody tr th {\n",
       "        vertical-align: top;\n",
       "    }\n",
       "\n",
       "    .dataframe thead th {\n",
       "        text-align: right;\n",
       "    }\n",
       "</style>\n",
       "<table border=\"1\" class=\"dataframe\">\n",
       "  <thead>\n",
       "    <tr style=\"text-align: right;\">\n",
       "      <th></th>\n",
       "      <th>q</th>\n",
       "      <th>q_id</th>\n",
       "      <th>entry_id</th>\n",
       "      <th>entry_name</th>\n",
       "      <th>expert</th>\n",
       "      <th>related_parent_q</th>\n",
       "    </tr>\n",
       "  </thead>\n",
       "  <tbody>\n",
       "    <tr>\n",
       "      <th>1494</th>\n",
       "      <td>Is this palce a tomb/burial:</td>\n",
       "      <td>5408</td>\n",
       "      <td>642</td>\n",
       "      <td>The Arch of Titus</td>\n",
       "      <td>Gretel Rodríguez</td>\n",
       "      <td>NaN</td>\n",
       "    </tr>\n",
       "    <tr>\n",
       "      <th>1627</th>\n",
       "      <td>Is this palce a tomb/burial:</td>\n",
       "      <td>5408</td>\n",
       "      <td>653</td>\n",
       "      <td>The Arch of Constantine</td>\n",
       "      <td>Gretel Rodríguez</td>\n",
       "      <td>NaN</td>\n",
       "    </tr>\n",
       "  </tbody>\n",
       "</table>\n",
       "</div>"
      ],
      "text/plain": [
       "                                 q  q_id  entry_id               entry_name  \\\n",
       "1494  Is this palce a tomb/burial:  5408       642        The Arch of Titus   \n",
       "1627  Is this palce a tomb/burial:  5408       653  The Arch of Constantine   \n",
       "\n",
       "                expert related_parent_q  \n",
       "1494  Gretel Rodríguez              NaN  \n",
       "1627  Gretel Rodríguez              NaN  "
      ]
     },
     "execution_count": 62,
     "metadata": {},
     "output_type": "execute_result"
    }
   ],
   "source": [
    "df[df[\"q\"] == \"Is this palce a tomb/burial:\"][[\"q\", \"q_id\", \"entry_id\", \"entry_name\", \"expert\", \"related_parent_q\"]]\n"
   ]
  },
  {
   "cell_type": "markdown",
   "metadata": {},
   "source": [
    "The Arch of Titus (yes, it appears misspelled): https://religiondatabase.org/browse/642/#/ \n",
    "\n",
    "The Arch of Constantine (yes, it appears misspelled): https://religiondatabase.org/browse/653/#/\n",
    "\n",
    "And yes, when we compare it to the other entries which have this question not misspelled it appears in the same place (so it should share q_id). This is a big problem. However, another big problem is that we have different formats and questionnaires. This I think explains why we have so many NANs. All of the religions that contain answers to the \"tomb/burial\" question (misspelled and correctly spelled) have one format (https://religiondatabase.org/browse/653/#/), and most other religions appear to have this format (https://religiondatabase.org/browse/1060/#/).\n",
    "\n",
    "This could be a huge problem for us. "
   ]
  },
  {
   "cell_type": "markdown",
   "metadata": {},
   "source": [
    "## 2. Formatting mistakes"
   ]
  },
  {
   "cell_type": "code",
   "execution_count": 64,
   "metadata": {},
   "outputs": [
    {
     "data": {
      "text/html": [
       "<div>\n",
       "<style scoped>\n",
       "    .dataframe tbody tr th:only-of-type {\n",
       "        vertical-align: middle;\n",
       "    }\n",
       "\n",
       "    .dataframe tbody tr th {\n",
       "        vertical-align: top;\n",
       "    }\n",
       "\n",
       "    .dataframe thead th {\n",
       "        text-align: right;\n",
       "    }\n",
       "</style>\n",
       "<table border=\"1\" class=\"dataframe\">\n",
       "  <thead>\n",
       "    <tr style=\"text-align: right;\">\n",
       "      <th></th>\n",
       "      <th>q</th>\n",
       "      <th>q_id</th>\n",
       "      <th>entry_id</th>\n",
       "      <th>entry_name</th>\n",
       "      <th>expert</th>\n",
       "    </tr>\n",
       "  </thead>\n",
       "  <tbody>\n",
       "    <tr>\n",
       "      <th>0</th>\n",
       "      <td>*Are there methods of permanently tabling or r...</td>\n",
       "      <td>6860</td>\n",
       "      <td>1025</td>\n",
       "      <td>Dalikal Ppo Klaong Garai</td>\n",
       "      <td>William Noseworthy</td>\n",
       "    </tr>\n",
       "    <tr>\n",
       "      <th>1</th>\n",
       "      <td>*Is education gendered with respect to this te...</td>\n",
       "      <td>7560</td>\n",
       "      <td>1025</td>\n",
       "      <td>Dalikal Ppo Klaong Garai</td>\n",
       "      <td>William Noseworthy</td>\n",
       "    </tr>\n",
       "  </tbody>\n",
       "</table>\n",
       "</div>"
      ],
      "text/plain": [
       "                                                   q  q_id  entry_id  \\\n",
       "0  *Are there methods of permanently tabling or r...  6860      1025   \n",
       "1  *Is education gendered with respect to this te...  7560      1025   \n",
       "\n",
       "                 entry_name              expert  \n",
       "0  Dalikal Ppo Klaong Garai  William Noseworthy  \n",
       "1  Dalikal Ppo Klaong Garai  William Noseworthy  "
      ]
     },
     "execution_count": 64,
     "metadata": {},
     "output_type": "execute_result"
    }
   ],
   "source": [
    "q_asterisk.head(2)"
   ]
  },
  {
   "cell_type": "markdown",
   "metadata": {},
   "source": [
    "When we check this entry (Dalikal Ppo Klaong Garai) it again has a third overall format (https://religiondatabase.org/browse/1025/#/) which is problematic. "
   ]
  },
  {
   "cell_type": "markdown",
   "metadata": {},
   "source": [
    "# Only overall Questions "
   ]
  },
  {
   "cell_type": "code",
   "execution_count": 65,
   "metadata": {},
   "outputs": [],
   "source": [
    "df_o = df[df[\"related_parent_q\"].isna()]"
   ]
  },
  {
   "cell_type": "code",
   "execution_count": 70,
   "metadata": {},
   "outputs": [
    {
     "name": "stdout",
     "output_type": "stream",
     "text": [
      "N questions: (1672, 287)\n",
      "N question ID: (3360, 596)\n",
      "N entry ID: (799, 799)\n",
      "N entry name: (838, 838)\n"
     ]
    }
   ],
   "source": [
    "n_o_q, n_q = len(df_o[\"q\"].drop_duplicates()), len(df[\"q\"].drop_duplicates())\n",
    "n_o_q_id, n_q_id = len(df_o[\"q_id\"].drop_duplicates()), len(df[\"q_id\"].drop_duplicates())\n",
    "n_o_e, n_e = len(df_o[\"entry_name\"].drop_duplicates()), len(df[\"entry_name\"].drop_duplicates())\n",
    "n_o_e_id, n_e_id = len(df_o[\"entry_id\"].drop_duplicates()), len(df[\"entry_id\"].drop_duplicates())\n",
    "print(f\"N questions: ({n_q}, {n_o_q})\\nN question ID: ({n_q_id}, {n_o_q_id})\")\n",
    "print(f\"N entry ID: ({n_e}, {n_o_e})\\nN entry name: ({n_e_id}, {n_o_e_id})\")"
   ]
  },
  {
   "cell_type": "markdown",
   "metadata": {},
   "source": [
    "When we only select overall questions we (naturally) get much fewer questions (both questions and question id). The problem is that we still have way to many unique questions (N question ID = 596). "
   ]
  },
  {
   "cell_type": "markdown",
   "metadata": {},
   "source": [
    "# Only questions with BINARY answers"
   ]
  },
  {
   "cell_type": "code",
   "execution_count": 72,
   "metadata": {},
   "outputs": [
    {
     "name": "stderr",
     "output_type": "stream",
     "text": [
      "/tmp/ipykernel_1148/1992147147.py:9: SettingWithCopyWarning: \n",
      "A value is trying to be set on a copy of a slice from a DataFrame.\n",
      "Try using .loc[row_indexer,col_indexer] = value instead\n",
      "\n",
      "See the caveats in the documentation: https://pandas.pydata.org/pandas-docs/stable/user_guide/indexing.html#returning-a-view-versus-a-copy\n",
      "  df_o['answer_types'] = np.select(conditions, choices, default=\"non-binary\")\n"
     ]
    },
    {
     "name": "stdout",
     "output_type": "stream",
     "text": [
      "total Q: 596\n",
      "binary Q: 548 (0.92)%\n"
     ]
    }
   ],
   "source": [
    "# remove questions with non-binary answers\n",
    "## code answer types\n",
    "conditions = [\n",
    "    (df_o['answers'] == \"Yes\") | (df_o[\"answers\"] == \"No\"),\n",
    "    (df_o['answers'] == \"Field doesn't know\") | (df_o[\"answers\"] == \"I don't know\"),\n",
    "    (df_o['answers'] == \"NaN\")\n",
    "]\n",
    "choices = [\"Yes/No\", \"Don't know\", \"NaN\"]\n",
    "df_o['answer_types'] = np.select(conditions, choices, default=\"non-binary\")\n",
    "\n",
    "## find questions with non-binary answers and remove them\n",
    "df_ = df_o.groupby(['q_id', 'answer_types']).size().reset_index(name=\"count\")\n",
    "df_ = df_[df_[\"answer_types\"] == \"non-binary\"]\n",
    "df_ = df_o.merge(df_, how = \"outer\", indicator = True)\n",
    "df_b = df_[(df_._merge==\"left_only\")].drop(\"_merge\", axis = 1)\n",
    "\n",
    "## how many questions did we exclude?\n",
    "q_total = len(df_o[\"q_id\"].drop_duplicates())\n",
    "q_binary = len(df_b[\"q_id\"].drop_duplicates()) \n",
    "print(f\"total Q: {q_total}\\nbinary Q: {q_binary} ({round(q_binary/q_total,2)})%\")\n",
    "answer_vals = [\"No\", \"Yes\", \"Field doesn't know\", \"I don't know\"]\n",
    "df2 = df_o.loc[df_o['answers'].isin(answer_vals)] "
   ]
  },
  {
   "cell_type": "code",
   "execution_count": 77,
   "metadata": {},
   "outputs": [
    {
     "data": {
      "text/html": [
       "<div>\n",
       "<style scoped>\n",
       "    .dataframe tbody tr th:only-of-type {\n",
       "        vertical-align: middle;\n",
       "    }\n",
       "\n",
       "    .dataframe tbody tr th {\n",
       "        vertical-align: top;\n",
       "    }\n",
       "\n",
       "    .dataframe thead th {\n",
       "        text-align: right;\n",
       "    }\n",
       "</style>\n",
       "<table border=\"1\" class=\"dataframe\">\n",
       "  <thead>\n",
       "    <tr style=\"text-align: right;\">\n",
       "      <th></th>\n",
       "      <th>answers</th>\n",
       "      <th>count</th>\n",
       "    </tr>\n",
       "  </thead>\n",
       "  <tbody>\n",
       "    <tr>\n",
       "      <th>2</th>\n",
       "      <td>No</td>\n",
       "      <td>22756</td>\n",
       "    </tr>\n",
       "    <tr>\n",
       "      <th>3</th>\n",
       "      <td>Yes</td>\n",
       "      <td>22257</td>\n",
       "    </tr>\n",
       "    <tr>\n",
       "      <th>0</th>\n",
       "      <td>Field doesn't know</td>\n",
       "      <td>4439</td>\n",
       "    </tr>\n",
       "    <tr>\n",
       "      <th>1</th>\n",
       "      <td>I don't know</td>\n",
       "      <td>1611</td>\n",
       "    </tr>\n",
       "  </tbody>\n",
       "</table>\n",
       "</div>"
      ],
      "text/plain": [
       "              answers  count\n",
       "2                  No  22756\n",
       "3                 Yes  22257\n",
       "0  Field doesn't know   4439\n",
       "1        I don't know   1611"
      ]
     },
     "execution_count": 77,
     "metadata": {},
     "output_type": "execute_result"
    }
   ],
   "source": [
    "df2.groupby('answers').size().reset_index(name = \"count\").sort_values('count', ascending=False)"
   ]
  },
  {
   "cell_type": "markdown",
   "metadata": {},
   "source": [
    "We still have a lot of questions (n = 548). We are suffering from the errors in coding I believe (and the inconsistency in the format of the questionnaire). "
   ]
  },
  {
   "cell_type": "code",
   "execution_count": 80,
   "metadata": {},
   "outputs": [
    {
     "data": {
      "text/html": [
       "<div>\n",
       "<style scoped>\n",
       "    .dataframe tbody tr th:only-of-type {\n",
       "        vertical-align: middle;\n",
       "    }\n",
       "\n",
       "    .dataframe tbody tr th {\n",
       "        vertical-align: top;\n",
       "    }\n",
       "\n",
       "    .dataframe thead th {\n",
       "        text-align: right;\n",
       "    }\n",
       "</style>\n",
       "<table border=\"1\" class=\"dataframe\">\n",
       "  <thead>\n",
       "    <tr style=\"text-align: right;\">\n",
       "      <th></th>\n",
       "      <th>q</th>\n",
       "      <th>count</th>\n",
       "    </tr>\n",
       "  </thead>\n",
       "  <tbody>\n",
       "    <tr>\n",
       "      <th>0</th>\n",
       "      <td>*Are there specific relationships to teachers ...</td>\n",
       "      <td>1</td>\n",
       "    </tr>\n",
       "    <tr>\n",
       "      <th>1</th>\n",
       "      <td>*Are there worldly rewards/benefits to educati...</td>\n",
       "      <td>1</td>\n",
       "    </tr>\n",
       "    <tr>\n",
       "      <th>2</th>\n",
       "      <td>*Does the text specify teaching relationships ...</td>\n",
       "      <td>1</td>\n",
       "    </tr>\n",
       "    <tr>\n",
       "      <th>3</th>\n",
       "      <td>*Is education gendered with respect to this te...</td>\n",
       "      <td>1</td>\n",
       "    </tr>\n",
       "    <tr>\n",
       "      <th>249</th>\n",
       "      <td>Number of audience within the sample region (e...</td>\n",
       "      <td>1</td>\n",
       "    </tr>\n",
       "    <tr>\n",
       "      <th>16</th>\n",
       "      <td>Are messianic beliefs presentin the text?</td>\n",
       "      <td>1</td>\n",
       "    </tr>\n",
       "    <tr>\n",
       "      <th>243</th>\n",
       "      <td>Nature of audience</td>\n",
       "      <td>1</td>\n",
       "    </tr>\n",
       "    <tr>\n",
       "      <th>262</th>\n",
       "      <td>Was the place created as the birthplace of a s...</td>\n",
       "      <td>2</td>\n",
       "    </tr>\n",
       "    <tr>\n",
       "      <th>236</th>\n",
       "      <td>Is this palce a tomb/burial:</td>\n",
       "      <td>2</td>\n",
       "    </tr>\n",
       "    <tr>\n",
       "      <th>257</th>\n",
       "      <td>The society to which the religious group belon...</td>\n",
       "      <td>3</td>\n",
       "    </tr>\n",
       "  </tbody>\n",
       "</table>\n",
       "</div>"
      ],
      "text/plain": [
       "                                                     q  count\n",
       "0    *Are there specific relationships to teachers ...      1\n",
       "1    *Are there worldly rewards/benefits to educati...      1\n",
       "2    *Does the text specify teaching relationships ...      1\n",
       "3    *Is education gendered with respect to this te...      1\n",
       "249  Number of audience within the sample region (e...      1\n",
       "16           Are messianic beliefs presentin the text?      1\n",
       "243                                 Nature of audience      1\n",
       "262  Was the place created as the birthplace of a s...      2\n",
       "236                       Is this palce a tomb/burial:      2\n",
       "257  The society to which the religious group belon...      3"
      ]
     },
     "execution_count": 80,
     "metadata": {},
     "output_type": "execute_result"
    }
   ],
   "source": [
    "df2.groupby('q').size().reset_index(name = \"count\").sort_values(\"count\", ascending = True).head(10)"
   ]
  },
  {
   "cell_type": "code",
   "execution_count": 82,
   "metadata": {},
   "outputs": [
    {
     "data": {
      "text/html": [
       "<div>\n",
       "<style scoped>\n",
       "    .dataframe tbody tr th:only-of-type {\n",
       "        vertical-align: middle;\n",
       "    }\n",
       "\n",
       "    .dataframe tbody tr th {\n",
       "        vertical-align: top;\n",
       "    }\n",
       "\n",
       "    .dataframe thead th {\n",
       "        text-align: right;\n",
       "    }\n",
       "</style>\n",
       "<table border=\"1\" class=\"dataframe\">\n",
       "  <thead>\n",
       "    <tr style=\"text-align: right;\">\n",
       "      <th></th>\n",
       "      <th>q_id</th>\n",
       "      <th>count</th>\n",
       "    </tr>\n",
       "  </thead>\n",
       "  <tbody>\n",
       "    <tr>\n",
       "      <th>343</th>\n",
       "      <td>6842</td>\n",
       "      <td>1</td>\n",
       "    </tr>\n",
       "    <tr>\n",
       "      <th>368</th>\n",
       "      <td>7109</td>\n",
       "      <td>1</td>\n",
       "    </tr>\n",
       "    <tr>\n",
       "      <th>369</th>\n",
       "      <td>7121</td>\n",
       "      <td>1</td>\n",
       "    </tr>\n",
       "    <tr>\n",
       "      <th>370</th>\n",
       "      <td>7129</td>\n",
       "      <td>1</td>\n",
       "    </tr>\n",
       "    <tr>\n",
       "      <th>371</th>\n",
       "      <td>7135</td>\n",
       "      <td>1</td>\n",
       "    </tr>\n",
       "  </tbody>\n",
       "</table>\n",
       "</div>"
      ],
      "text/plain": [
       "     q_id  count\n",
       "343  6842      1\n",
       "368  7109      1\n",
       "369  7121      1\n",
       "370  7129      1\n",
       "371  7135      1"
      ]
     },
     "execution_count": 82,
     "metadata": {},
     "output_type": "execute_result"
    }
   ],
   "source": [
    "df2.groupby('q_id').size().reset_index(name = \"count\").sort_values(\"count\", ascending = True).head(5)"
   ]
  },
  {
   "cell_type": "markdown",
   "metadata": {},
   "source": [
    "As we can see above, a lot of the questions with very few answers (count) are the ones we discussed earlier. The questions that are misspelled, and the qusetions that have weird formatting. We get a lot of question ids with an answer in only 1 religion, which we cannot really use. "
   ]
  },
  {
   "cell_type": "markdown",
   "metadata": {},
   "source": [
    "# Other quirks"
   ]
  },
  {
   "cell_type": "markdown",
   "metadata": {},
   "source": [
    "## Same (BINARY) question, multiple answers"
   ]
  },
  {
   "cell_type": "code",
   "execution_count": 86,
   "metadata": {},
   "outputs": [
    {
     "data": {
      "text/html": [
       "<div>\n",
       "<style scoped>\n",
       "    .dataframe tbody tr th:only-of-type {\n",
       "        vertical-align: middle;\n",
       "    }\n",
       "\n",
       "    .dataframe tbody tr th {\n",
       "        vertical-align: top;\n",
       "    }\n",
       "\n",
       "    .dataframe thead th {\n",
       "        text-align: right;\n",
       "    }\n",
       "</style>\n",
       "<table border=\"1\" class=\"dataframe\">\n",
       "  <thead>\n",
       "    <tr style=\"text-align: right;\">\n",
       "      <th></th>\n",
       "      <th>q_id</th>\n",
       "      <th>entry_id</th>\n",
       "      <th>count</th>\n",
       "    </tr>\n",
       "  </thead>\n",
       "  <tbody>\n",
       "    <tr>\n",
       "      <th>37961</th>\n",
       "      <td>6352</td>\n",
       "      <td>1230</td>\n",
       "      <td>8</td>\n",
       "    </tr>\n",
       "    <tr>\n",
       "      <th>12010</th>\n",
       "      <td>4760</td>\n",
       "      <td>613</td>\n",
       "      <td>4</td>\n",
       "    </tr>\n",
       "    <tr>\n",
       "      <th>1056</th>\n",
       "      <td>2347</td>\n",
       "      <td>189</td>\n",
       "      <td>4</td>\n",
       "    </tr>\n",
       "    <tr>\n",
       "      <th>37954</th>\n",
       "      <td>6352</td>\n",
       "      <td>1213</td>\n",
       "      <td>4</td>\n",
       "    </tr>\n",
       "    <tr>\n",
       "      <th>447</th>\n",
       "      <td>2283</td>\n",
       "      <td>257</td>\n",
       "      <td>3</td>\n",
       "    </tr>\n",
       "  </tbody>\n",
       "</table>\n",
       "</div>"
      ],
      "text/plain": [
       "       q_id  entry_id  count\n",
       "37961  6352      1230      8\n",
       "12010  4760       613      4\n",
       "1056   2347       189      4\n",
       "37954  6352      1213      4\n",
       "447    2283       257      3"
      ]
     },
     "execution_count": 86,
     "metadata": {},
     "output_type": "execute_result"
    }
   ],
   "source": [
    "df2.groupby(['q_id', 'entry_id']).size().reset_index(name = \"count\").sort_values(\"count\", ascending=False).head(5)"
   ]
  },
  {
   "cell_type": "code",
   "execution_count": 90,
   "metadata": {},
   "outputs": [
    {
     "data": {
      "text/html": [
       "<div>\n",
       "<style scoped>\n",
       "    .dataframe tbody tr th:only-of-type {\n",
       "        vertical-align: middle;\n",
       "    }\n",
       "\n",
       "    .dataframe tbody tr th {\n",
       "        vertical-align: top;\n",
       "    }\n",
       "\n",
       "    .dataframe thead th {\n",
       "        text-align: right;\n",
       "    }\n",
       "</style>\n",
       "<table border=\"1\" class=\"dataframe\">\n",
       "  <thead>\n",
       "    <tr style=\"text-align: right;\">\n",
       "      <th></th>\n",
       "      <th>entry_id</th>\n",
       "      <th>entry_name</th>\n",
       "      <th>expert</th>\n",
       "      <th>answers</th>\n",
       "      <th>q</th>\n",
       "      <th>q_id</th>\n",
       "    </tr>\n",
       "  </thead>\n",
       "  <tbody>\n",
       "    <tr>\n",
       "      <th>4919</th>\n",
       "      <td>1230</td>\n",
       "      <td>Cult at the Athenian Agora</td>\n",
       "      <td>Laura Gawlinski</td>\n",
       "      <td>Yes</td>\n",
       "      <td>Are there structures or features present:</td>\n",
       "      <td>6352</td>\n",
       "    </tr>\n",
       "    <tr>\n",
       "      <th>4924</th>\n",
       "      <td>1230</td>\n",
       "      <td>Cult at the Athenian Agora</td>\n",
       "      <td>Laura Gawlinski</td>\n",
       "      <td>Yes</td>\n",
       "      <td>Are there structures or features present:</td>\n",
       "      <td>6352</td>\n",
       "    </tr>\n",
       "    <tr>\n",
       "      <th>4928</th>\n",
       "      <td>1230</td>\n",
       "      <td>Cult at the Athenian Agora</td>\n",
       "      <td>Laura Gawlinski</td>\n",
       "      <td>Yes</td>\n",
       "      <td>Are there structures or features present:</td>\n",
       "      <td>6352</td>\n",
       "    </tr>\n",
       "    <tr>\n",
       "      <th>4931</th>\n",
       "      <td>1230</td>\n",
       "      <td>Cult at the Athenian Agora</td>\n",
       "      <td>Laura Gawlinski</td>\n",
       "      <td>Yes</td>\n",
       "      <td>Are there structures or features present:</td>\n",
       "      <td>6352</td>\n",
       "    </tr>\n",
       "    <tr>\n",
       "      <th>4933</th>\n",
       "      <td>1230</td>\n",
       "      <td>Cult at the Athenian Agora</td>\n",
       "      <td>Laura Gawlinski</td>\n",
       "      <td>Yes</td>\n",
       "      <td>Are there structures or features present:</td>\n",
       "      <td>6352</td>\n",
       "    </tr>\n",
       "    <tr>\n",
       "      <th>4935</th>\n",
       "      <td>1230</td>\n",
       "      <td>Cult at the Athenian Agora</td>\n",
       "      <td>Laura Gawlinski</td>\n",
       "      <td>Yes</td>\n",
       "      <td>Are there structures or features present:</td>\n",
       "      <td>6352</td>\n",
       "    </tr>\n",
       "    <tr>\n",
       "      <th>4959</th>\n",
       "      <td>1230</td>\n",
       "      <td>Cult at the Athenian Agora</td>\n",
       "      <td>Laura Gawlinski</td>\n",
       "      <td>Yes</td>\n",
       "      <td>Are there structures or features present:</td>\n",
       "      <td>6352</td>\n",
       "    </tr>\n",
       "    <tr>\n",
       "      <th>4967</th>\n",
       "      <td>1230</td>\n",
       "      <td>Cult at the Athenian Agora</td>\n",
       "      <td>Laura Gawlinski</td>\n",
       "      <td>Yes</td>\n",
       "      <td>Are there structures or features present:</td>\n",
       "      <td>6352</td>\n",
       "    </tr>\n",
       "  </tbody>\n",
       "</table>\n",
       "</div>"
      ],
      "text/plain": [
       "      entry_id                  entry_name           expert answers  \\\n",
       "4919      1230  Cult at the Athenian Agora  Laura Gawlinski     Yes   \n",
       "4924      1230  Cult at the Athenian Agora  Laura Gawlinski     Yes   \n",
       "4928      1230  Cult at the Athenian Agora  Laura Gawlinski     Yes   \n",
       "4931      1230  Cult at the Athenian Agora  Laura Gawlinski     Yes   \n",
       "4933      1230  Cult at the Athenian Agora  Laura Gawlinski     Yes   \n",
       "4935      1230  Cult at the Athenian Agora  Laura Gawlinski     Yes   \n",
       "4959      1230  Cult at the Athenian Agora  Laura Gawlinski     Yes   \n",
       "4967      1230  Cult at the Athenian Agora  Laura Gawlinski     Yes   \n",
       "\n",
       "                                              q  q_id  \n",
       "4919  Are there structures or features present:  6352  \n",
       "4924  Are there structures or features present:  6352  \n",
       "4928  Are there structures or features present:  6352  \n",
       "4931  Are there structures or features present:  6352  \n",
       "4933  Are there structures or features present:  6352  \n",
       "4935  Are there structures or features present:  6352  \n",
       "4959  Are there structures or features present:  6352  \n",
       "4967  Are there structures or features present:  6352  "
      ]
     },
     "execution_count": 90,
     "metadata": {},
     "output_type": "execute_result"
    }
   ],
   "source": [
    "df2[(df2[\"entry_id\"] == 1230) & (df2[\"q_id\"] == 6352)][[\"entry_id\", \"entry_name\", \"expert\", \"answers\", \"q\", \"q_id\"]]"
   ]
  },
  {
   "cell_type": "markdown",
   "metadata": {},
   "source": [
    "In this case not a problem because the answer is the same (Yes) for all of the records. Do we observe inconsistent answers in any cases?"
   ]
  },
  {
   "cell_type": "code",
   "execution_count": 96,
   "metadata": {},
   "outputs": [
    {
     "data": {
      "text/html": [
       "<div>\n",
       "<style scoped>\n",
       "    .dataframe tbody tr th:only-of-type {\n",
       "        vertical-align: middle;\n",
       "    }\n",
       "\n",
       "    .dataframe tbody tr th {\n",
       "        vertical-align: top;\n",
       "    }\n",
       "\n",
       "    .dataframe thead th {\n",
       "        text-align: right;\n",
       "    }\n",
       "</style>\n",
       "<table border=\"1\" class=\"dataframe\">\n",
       "  <thead>\n",
       "    <tr style=\"text-align: right;\">\n",
       "      <th></th>\n",
       "      <th>q_id</th>\n",
       "      <th>entry_id</th>\n",
       "      <th>count</th>\n",
       "    </tr>\n",
       "  </thead>\n",
       "  <tbody>\n",
       "    <tr>\n",
       "      <th>43932</th>\n",
       "      <td>7658</td>\n",
       "      <td>1144</td>\n",
       "      <td>3</td>\n",
       "    </tr>\n",
       "    <tr>\n",
       "      <th>23827</th>\n",
       "      <td>5151</td>\n",
       "      <td>1466</td>\n",
       "      <td>2</td>\n",
       "    </tr>\n",
       "    <tr>\n",
       "      <th>2631</th>\n",
       "      <td>2964</td>\n",
       "      <td>239</td>\n",
       "      <td>2</td>\n",
       "    </tr>\n",
       "    <tr>\n",
       "      <th>2602</th>\n",
       "      <td>2964</td>\n",
       "      <td>174</td>\n",
       "      <td>2</td>\n",
       "    </tr>\n",
       "    <tr>\n",
       "      <th>27271</th>\n",
       "      <td>5181</td>\n",
       "      <td>1231</td>\n",
       "      <td>2</td>\n",
       "    </tr>\n",
       "  </tbody>\n",
       "</table>\n",
       "</div>"
      ],
      "text/plain": [
       "       q_id  entry_id  count\n",
       "43932  7658      1144      3\n",
       "23827  5151      1466      2\n",
       "2631   2964       239      2\n",
       "2602   2964       174      2\n",
       "27271  5181      1231      2"
      ]
     },
     "execution_count": 96,
     "metadata": {},
     "output_type": "execute_result"
    }
   ],
   "source": [
    "df_ = df2.groupby(['q_id', 'entry_id', 'answers']).size().reset_index(name = \"count\").sort_values(\"count\", ascending=False)\n",
    "df_.groupby(['q_id', 'entry_id']).size().reset_index(name = \"count\").sort_values(\"count\", ascending=False).head(5)"
   ]
  },
  {
   "cell_type": "markdown",
   "metadata": {},
   "source": [
    "Unfortunately, it appears that we do observe inconsistent responses to the same BINARY questions within some religions. "
   ]
  },
  {
   "cell_type": "code",
   "execution_count": 99,
   "metadata": {},
   "outputs": [
    {
     "data": {
      "text/html": [
       "<div>\n",
       "<style scoped>\n",
       "    .dataframe tbody tr th:only-of-type {\n",
       "        vertical-align: middle;\n",
       "    }\n",
       "\n",
       "    .dataframe tbody tr th {\n",
       "        vertical-align: top;\n",
       "    }\n",
       "\n",
       "    .dataframe thead th {\n",
       "        text-align: right;\n",
       "    }\n",
       "</style>\n",
       "<table border=\"1\" class=\"dataframe\">\n",
       "  <thead>\n",
       "    <tr style=\"text-align: right;\">\n",
       "      <th></th>\n",
       "      <th>q</th>\n",
       "      <th>answers</th>\n",
       "      <th>answer_val</th>\n",
       "      <th>q_id</th>\n",
       "      <th>entry_name</th>\n",
       "      <th>expert</th>\n",
       "    </tr>\n",
       "  </thead>\n",
       "  <tbody>\n",
       "    <tr>\n",
       "      <th>27854</th>\n",
       "      <td>Is the production of the text funded by the po...</td>\n",
       "      <td>Field doesn't know</td>\n",
       "      <td>-1</td>\n",
       "      <td>7658</td>\n",
       "      <td>The Yijing 易經 (The Classic of Changes)</td>\n",
       "      <td>Matthew Hamm</td>\n",
       "    </tr>\n",
       "    <tr>\n",
       "      <th>27857</th>\n",
       "      <td>Is the production of the text funded by the po...</td>\n",
       "      <td>Yes</td>\n",
       "      <td>1</td>\n",
       "      <td>7658</td>\n",
       "      <td>The Yijing 易經 (The Classic of Changes)</td>\n",
       "      <td>Matthew Hamm</td>\n",
       "    </tr>\n",
       "    <tr>\n",
       "      <th>28069</th>\n",
       "      <td>Is the production of the text funded by the po...</td>\n",
       "      <td>No</td>\n",
       "      <td>0</td>\n",
       "      <td>7658</td>\n",
       "      <td>The Yijing 易經 (The Classic of Changes)</td>\n",
       "      <td>Matthew Hamm</td>\n",
       "    </tr>\n",
       "  </tbody>\n",
       "</table>\n",
       "</div>"
      ],
      "text/plain": [
       "                                                       q             answers  \\\n",
       "27854  Is the production of the text funded by the po...  Field doesn't know   \n",
       "27857  Is the production of the text funded by the po...                 Yes   \n",
       "28069  Is the production of the text funded by the po...                  No   \n",
       "\n",
       "      answer_val  q_id                              entry_name        expert  \n",
       "27854         -1  7658  The Yijing 易經 (The Classic of Changes)  Matthew Hamm  \n",
       "27857          1  7658  The Yijing 易經 (The Classic of Changes)  Matthew Hamm  \n",
       "28069          0  7658  The Yijing 易經 (The Classic of Changes)  Matthew Hamm  "
      ]
     },
     "execution_count": 99,
     "metadata": {},
     "output_type": "execute_result"
    }
   ],
   "source": [
    "df2[(df2[\"q_id\"] == 7658) & (df2[\"entry_id\"] == 1144)][[\"q\", \"answers\", \"answer_val\", \"q_id\", \"entry_name\", \"expert\"]]"
   ]
  },
  {
   "cell_type": "markdown",
   "metadata": {},
   "source": [
    "The above is an example of the same question being answered with both:\n",
    "(1) Field doesn't know\n",
    "(2) Yes\n",
    "(3) No\n",
    "In these cases, we need to figure out what we do (i.e. whether we weight, sample randomly, ...?)"
   ]
  },
  {
   "cell_type": "markdown",
   "metadata": {},
   "source": [
    "## Consistency of temporal information within entries"
   ]
  },
  {
   "cell_type": "code",
   "execution_count": 106,
   "metadata": {},
   "outputs": [
    {
     "data": {
      "text/html": [
       "<div>\n",
       "<style scoped>\n",
       "    .dataframe tbody tr th:only-of-type {\n",
       "        vertical-align: middle;\n",
       "    }\n",
       "\n",
       "    .dataframe tbody tr th {\n",
       "        vertical-align: top;\n",
       "    }\n",
       "\n",
       "    .dataframe thead th {\n",
       "        text-align: right;\n",
       "    }\n",
       "</style>\n",
       "<table border=\"1\" class=\"dataframe\">\n",
       "  <thead>\n",
       "    <tr style=\"text-align: right;\">\n",
       "      <th></th>\n",
       "      <th>entry_id</th>\n",
       "      <th>count</th>\n",
       "    </tr>\n",
       "  </thead>\n",
       "  <tbody>\n",
       "    <tr>\n",
       "      <th>19</th>\n",
       "      <td>197</td>\n",
       "      <td>12</td>\n",
       "    </tr>\n",
       "    <tr>\n",
       "      <th>711</th>\n",
       "      <td>1324</td>\n",
       "      <td>11</td>\n",
       "    </tr>\n",
       "    <tr>\n",
       "      <th>604</th>\n",
       "      <td>1180</td>\n",
       "      <td>8</td>\n",
       "    </tr>\n",
       "  </tbody>\n",
       "</table>\n",
       "</div>"
      ],
      "text/plain": [
       "     entry_id  count\n",
       "19        197     12\n",
       "711      1324     11\n",
       "604      1180      8"
      ]
     },
     "execution_count": 106,
     "metadata": {},
     "output_type": "execute_result"
    }
   ],
   "source": [
    "e_id, e_y = distinct_size(df, 'entry_id', 'end_year')\n",
    "e_id.head(3) "
   ]
  },
  {
   "cell_type": "code",
   "execution_count": 113,
   "metadata": {},
   "outputs": [
    {
     "data": {
      "text/html": [
       "<div>\n",
       "<style scoped>\n",
       "    .dataframe tbody tr th:only-of-type {\n",
       "        vertical-align: middle;\n",
       "    }\n",
       "\n",
       "    .dataframe tbody tr th {\n",
       "        vertical-align: top;\n",
       "    }\n",
       "\n",
       "    .dataframe thead th {\n",
       "        text-align: right;\n",
       "    }\n",
       "</style>\n",
       "<table border=\"1\" class=\"dataframe\">\n",
       "  <thead>\n",
       "    <tr style=\"text-align: right;\">\n",
       "      <th></th>\n",
       "      <th>end_year</th>\n",
       "      <th>entry_name</th>\n",
       "      <th>entry_id</th>\n",
       "      <th>expert</th>\n",
       "    </tr>\n",
       "  </thead>\n",
       "  <tbody>\n",
       "    <tr>\n",
       "      <th>52694</th>\n",
       "      <td>1958</td>\n",
       "      <td>Gönlung Monastery (dgon lung byams pa gling)</td>\n",
       "      <td>197</td>\n",
       "      <td>Brenton Sullivan</td>\n",
       "    </tr>\n",
       "    <tr>\n",
       "      <th>52696</th>\n",
       "      <td>1957</td>\n",
       "      <td>Gönlung Monastery (dgon lung byams pa gling)</td>\n",
       "      <td>197</td>\n",
       "      <td>Brenton Sullivan</td>\n",
       "    </tr>\n",
       "    <tr>\n",
       "      <th>52698</th>\n",
       "      <td>1700</td>\n",
       "      <td>Gönlung Monastery (dgon lung byams pa gling)</td>\n",
       "      <td>197</td>\n",
       "      <td>Brenton Sullivan</td>\n",
       "    </tr>\n",
       "    <tr>\n",
       "      <th>77672</th>\n",
       "      <td>1620</td>\n",
       "      <td>Gönlung Monastery (dgon lung byams pa gling)</td>\n",
       "      <td>197</td>\n",
       "      <td>Brenton Sullivan</td>\n",
       "    </tr>\n",
       "    <tr>\n",
       "      <th>77673</th>\n",
       "      <td>1650</td>\n",
       "      <td>Gönlung Monastery (dgon lung byams pa gling)</td>\n",
       "      <td>197</td>\n",
       "      <td>Brenton Sullivan</td>\n",
       "    </tr>\n",
       "  </tbody>\n",
       "</table>\n",
       "</div>"
      ],
      "text/plain": [
       "       end_year                                    entry_name  entry_id  \\\n",
       "52694      1958  Gönlung Monastery (dgon lung byams pa gling)       197   \n",
       "52696      1957  Gönlung Monastery (dgon lung byams pa gling)       197   \n",
       "52698      1700  Gönlung Monastery (dgon lung byams pa gling)       197   \n",
       "77672      1620  Gönlung Monastery (dgon lung byams pa gling)       197   \n",
       "77673      1650  Gönlung Monastery (dgon lung byams pa gling)       197   \n",
       "\n",
       "                 expert  \n",
       "52694  Brenton Sullivan  \n",
       "52696  Brenton Sullivan  \n",
       "52698  Brenton Sullivan  \n",
       "77672  Brenton Sullivan  \n",
       "77673  Brenton Sullivan  "
      ]
     },
     "execution_count": 113,
     "metadata": {},
     "output_type": "execute_result"
    }
   ],
   "source": [
    "df[df[\"entry_id\"] == 197][[\"end_year\", \"entry_name\", \"entry_id\", \"expert\"]].drop_duplicates().head(5) # ..."
   ]
  },
  {
   "cell_type": "markdown",
   "metadata": {},
   "source": [
    "Each entry can have multiple end_year values, so again (if we are going to use this for anything) we have to decide how to handle this (e.g. mean, ...?). We have some of the same issues with regions (i.e. multiple regions can be assign, which of course can be correct, but it can also change over time and gets really complicated...)"
   ]
  }
 ],
 "metadata": {
  "kernelspec": {
   "display_name": "Python 3.9.13 ('relenv': venv)",
   "language": "python",
   "name": "python3"
  },
  "language_info": {
   "codemirror_mode": {
    "name": "ipython",
    "version": 3
   },
   "file_extension": ".py",
   "mimetype": "text/x-python",
   "name": "python",
   "nbconvert_exporter": "python",
   "pygments_lexer": "ipython3",
   "version": "3.9.13"
  },
  "orig_nbformat": 4,
  "vscode": {
   "interpreter": {
    "hash": "e119091dc149c6ef1b8027cb4ad9cd33fc54a05747a3ec09fa285c56fa635080"
   }
  }
 },
 "nbformat": 4,
 "nbformat_minor": 2
}
