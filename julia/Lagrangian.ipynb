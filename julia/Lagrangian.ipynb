{
 "cells": [
  {
   "cell_type": "code",
   "execution_count": 1,
   "metadata": {},
   "outputs": [],
   "source": [
    "# https://www.youtube.com/watch?v=EeC2pu9i_F0\n",
    "# AD4SM.jl \n",
    "# includes non-linear, iterative solver. \n",
    "# based on ForwardDiff.jl \n",
    "# what is a second order forward mode AD system?\n",
    "## x = x0 + xi*Ii + xij * Iij\n",
    "### where xi are components of gradient\n",
    "### xij are components of Hessian "
   ]
  },
  {
   "cell_type": "code",
   "execution_count": null,
   "metadata": {},
   "outputs": [],
   "source": [
    "struct D2{T, N, M} <:Number \n",
    "    v::T # the value  \n",
    "    g::NTuple{N, T} # the gradient (N = number of independent variables controlling the gradient)\n",
    "    h::NTuple{M, T} #  the hession (M = N(N+1)/2 number of independent elements in Hessian)\n",
    "end "
   ]
  }
 ],
 "metadata": {
  "kernelspec": {
   "display_name": "Julia 1.8.2",
   "language": "julia",
   "name": "julia-1.8"
  },
  "language_info": {
   "file_extension": ".jl",
   "mimetype": "application/julia",
   "name": "julia",
   "version": "1.8.2"
  },
  "orig_nbformat": 4
 },
 "nbformat": 4,
 "nbformat_minor": 2
}
