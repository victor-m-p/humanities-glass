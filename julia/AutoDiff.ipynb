{
 "cells": [
  {
   "cell_type": "code",
   "execution_count": 3,
   "metadata": {},
   "outputs": [
    {
     "data": {
      "text/plain": [
       "Babylonian (generic function with 1 method)"
      ]
     },
     "metadata": {},
     "output_type": "display_data"
    }
   ],
   "source": [
    "# https://www.youtube.com/watch?v=vAp6nUMrKYgfunction\n",
    "function Babylonian(x; N = 10) # 10 steps \n",
    "    t = (1+x)/2\n",
    "    for i = 2:N; t=(t + x/t)/2 end \n",
    "    t \n",
    "end "
   ]
  },
  {
   "cell_type": "code",
   "execution_count": 4,
   "metadata": {},
   "outputs": [
    {
     "data": {
      "text/plain": [
       "(1.7724538509055159, 1.7724538509055159)"
      ]
     },
     "metadata": {},
     "output_type": "display_data"
    }
   ],
   "source": [
    "α = π \n",
    "Babylonian(α), √α"
   ]
  },
  {
   "cell_type": "code",
   "execution_count": 5,
   "metadata": {},
   "outputs": [
    {
     "name": "stdout",
     "output_type": "stream",
     "text": [
      " 10.921173 seconds (8.44 M allocations: 585.242 MiB, 7.35% gc time, 20.63% compilation time: 70% of which was recompilation)\n"
     ]
    },
    {
     "name": "stderr",
     "output_type": "stream",
     "text": [
      "┌ Warning: For saving to png with the `Plotly` backend `PlotlyBase` and `PlotlyKaleido` need to be installed.\n",
      "│   err = ArgumentError(\"Package PlotlyBase not found in current path.\\n- Run `import Pkg; Pkg.add(\\\"PlotlyBase\\\")` to install the PlotlyBase package.\")\n",
      "└ @ Plots /home/vpoulsen/.julia/packages/Plots/gzYVM/src/backends.jl:420\n"
     ]
    },
    {
     "data": {
      "text/plain": [
       "Plots.PlotlyBackend()"
      ]
     },
     "metadata": {},
     "output_type": "display_data"
    }
   ],
   "source": [
    "@time using Plots \n",
    "plotly() # might work next time because I am installing it now... "
   ]
  },
  {
   "cell_type": "code",
   "execution_count": 7,
   "metadata": {},
   "outputs": [],
   "source": [
    "# not showing, come back and fix. \n",
    "i = 0:.01:49 # start, step, end \n",
    "plot([x->Babylonian(x, N=i) for i=1:5], i, label = [\"Iteration $j\" for i=1:1, j=1:5])\n",
    "plot!(sqrt, i, c=\"black\", label=\"sqrt\", title=\"Babylonian √\")"
   ]
  },
  {
   "cell_type": "code",
   "execution_count": 9,
   "metadata": {},
   "outputs": [],
   "source": [
    "# dual number again (really need to learn about this)\n",
    "struct D <: Number \n",
    "    f::Tuple{Float64, Float64} # function, derivative pair \n",
    "end "
   ]
  },
  {
   "cell_type": "markdown",
   "metadata": {},
   "source": [
    "Sum rule: (x+y)' = x' + y'\n",
    "\n",
    "Quotient rule: (x/y)' = (yx'-xy')/y^2"
   ]
  },
  {
   "cell_type": "code",
   "execution_count": 10,
   "metadata": {},
   "outputs": [
    {
     "data": {
      "text/plain": [
       "promote_rule (generic function with 145 methods)"
      ]
     },
     "metadata": {},
     "output_type": "display_data"
    }
   ],
   "source": [
    "# calculus rules \n",
    "import Base: +, /, convert, promote_rule # overloading base \n",
    "+(x::D, y::D) = D(x.f .+ y.f) # sum rule (add pair of numbers involves adding function values and derivs.)\n",
    "/(x::D, y::D) = D((x.f[1]/y.f[1], (y.f[1]*x.f[2] - x.f[1] * y.f[2])/y.f[1]^2)) # quotient rule\n",
    "convert(::Type{D}, x::Real) = D((x, zero(x)))\n",
    "promote_rule(::Type{D}, ::Type{<:Number}) = D"
   ]
  },
  {
   "cell_type": "code",
   "execution_count": 12,
   "metadata": {},
   "outputs": [
    {
     "data": {
      "text/plain": [
       "(D((7.0, 0.07142857142857142)), (7.0, 0.07142857142857142))"
      ]
     },
     "metadata": {},
     "output_type": "display_data"
    }
   ],
   "source": [
    "# now applying the number pair on the babylonian (which we never rewrote).\n",
    "x=49; Babylonian(D((x, 1))), (√x, .5/√x)"
   ]
  },
  {
   "cell_type": "code",
   "execution_count": 14,
   "metadata": {},
   "outputs": [
    {
     "data": {
      "text/plain": [
       "(D((1.7724538509055159, 0.28209479177387814)), (1.7724538509055159, 0.28209479177387814))"
      ]
     },
     "metadata": {},
     "output_type": "display_data"
    }
   ],
   "source": [
    "x=π; Babylonian(D((x, 1))), (√x, .5/√x)"
   ]
  },
  {
   "cell_type": "code",
   "execution_count": 15,
   "metadata": {},
   "outputs": [],
   "source": [
    "# how does it work?"
   ]
  },
  {
   "cell_type": "code",
   "execution_count": 20,
   "metadata": {},
   "outputs": [],
   "source": [
    "#using SymPy # getting an error here\n",
    "#x = symbols(\"x\")\n",
    "#display(\"Iteraions as a function of x\")\n",
    "#for k = 1:5\n",
    "#    display(simplify(Babylonian(x, N=k)))\n",
    "#end \n",
    "#display(\"Derivatives as a function of x\")\n",
    "#for k = 1:5\n",
    "#    display(simplify(diff(simplify(Babylonian(x, N=k)), x)))\n",
    "#end\n"
   ]
  },
  {
   "cell_type": "code",
   "execution_count": 28,
   "metadata": {},
   "outputs": [
    {
     "data": {
      "text/plain": [
       "dBabylonian (generic function with 1 method)"
      ]
     },
     "metadata": {},
     "output_type": "display_data"
    }
   ],
   "source": [
    "# how autodiff works \n",
    "## this is the old-school version \n",
    "function dBabylonian(x; N = 10)\n",
    "    t = (1+x)/2\n",
    "    tp = 1/2\n",
    "    for i = 1:N;\n",
    "        t = (t+x/t)/2;\n",
    "        tp = (tp+(t-x*tp)/t^2)/2;\n",
    "    end \n",
    "    tp\n",
    "end "
   ]
  },
  {
   "cell_type": "code",
   "execution_count": 29,
   "metadata": {},
   "outputs": [
    {
     "data": {
      "text/plain": [
       "(0.2820947917738782, 0.28209479177387814)"
      ]
     },
     "metadata": {},
     "output_type": "display_data"
    }
   ],
   "source": [
    "x=π; dBabylonian(x), .5/√x"
   ]
  },
  {
   "cell_type": "code",
   "execution_count": 30,
   "metadata": {},
   "outputs": [
    {
     "data": {
      "text/plain": [
       "D((1.7724538509055159, 0.28209479177387814))"
      ]
     },
     "metadata": {},
     "output_type": "display_data"
    }
   ],
   "source": [
    "Babylonian(D((x,1)))"
   ]
  },
  {
   "cell_type": "code",
   "execution_count": null,
   "metadata": {},
   "outputs": [],
   "source": [
    "# multiple dispatch \n",
    "# just given the rules for dual numbers "
   ]
  },
  {
   "cell_type": "code",
   "execution_count": 31,
   "metadata": {},
   "outputs": [],
   "source": [
    "Base.show(io::IO, x::D) = print(io, x.f[1], \" + \", x.f[2], \" ϵ\")"
   ]
  },
  {
   "cell_type": "code",
   "execution_count": 34,
   "metadata": {},
   "outputs": [],
   "source": [
    "# (a+bϵ) * (c = dϵ) = (ac) + (bc = ad)ϵ\n",
    "# (a+bϵ) / (c = dϵ) = (a/c) = (bc - ad)/d^2ϵ"
   ]
  },
  {
   "cell_type": "code",
   "execution_count": 32,
   "metadata": {},
   "outputs": [
    {
     "data": {
      "text/plain": [
       "* (generic function with 388 methods)"
      ]
     },
     "metadata": {},
     "output_type": "display_data"
    }
   ],
   "source": [
    "# add last two rules \n",
    "import Base: -, *\n",
    "-(x::D, y::D) = D(x.f .- y.f)\n",
    "*(x::D, y::D) = D((x.f[1]*y.f[1], (x.f[2]*y.f[1] + x.f[1]*y.f[2])))"
   ]
  },
  {
   "cell_type": "code",
   "execution_count": 33,
   "metadata": {},
   "outputs": [
    {
     "data": {
      "text/plain": [
       "1.0 + 0.0 ϵ"
      ]
     },
     "metadata": {},
     "output_type": "display_data"
    }
   ],
   "source": [
    "D((1,0))"
   ]
  },
  {
   "cell_type": "code",
   "execution_count": 35,
   "metadata": {},
   "outputs": [
    {
     "data": {
      "text/plain": [
       "0.0 + 0.0 ϵ"
      ]
     },
     "metadata": {},
     "output_type": "display_data"
    }
   ],
   "source": [
    "D((0,1))^2"
   ]
  },
  {
   "cell_type": "code",
   "execution_count": 36,
   "metadata": {},
   "outputs": [
    {
     "data": {
      "text/plain": [
       "4.0 + 4.0 ϵ"
      ]
     },
     "metadata": {},
     "output_type": "display_data"
    }
   ],
   "source": [
    "D((2,1))^2"
   ]
  },
  {
   "cell_type": "code",
   "execution_count": 43,
   "metadata": {},
   "outputs": [
    {
     "data": {
      "text/plain": [
       "0.05"
      ]
     },
     "metadata": {},
     "output_type": "display_data"
    }
   ],
   "source": [
    "## what one should actually use: \n",
    "# ForwardDiff package, e.g. \n",
    "using ForwardDiff \n",
    "ForwardDiff.derivative(Babylonian, 100)"
   ]
  }
 ],
 "metadata": {
  "kernelspec": {
   "display_name": "Julia 1.8.2",
   "language": "julia",
   "name": "julia-1.8"
  },
  "language_info": {
   "file_extension": ".jl",
   "mimetype": "application/julia",
   "name": "julia",
   "version": "1.8.2"
  },
  "orig_nbformat": 4
 },
 "nbformat": 4,
 "nbformat_minor": 2
}
